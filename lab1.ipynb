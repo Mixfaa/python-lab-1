{
 "cells": [
  {
   "cell_type": "code",
   "execution_count": 1,
   "id": "60dd886f",
   "metadata": {},
   "outputs": [
    {
     "data": {
      "text/plain": [
       "1"
      ]
     },
     "execution_count": 1,
     "metadata": {},
     "output_type": "execute_result"
    }
   ],
   "source": [
    "ord(\"E\") % 3 + 1"
   ]
  },
  {
   "cell_type": "code",
   "execution_count": 23,
   "id": "df7d0dfb",
   "metadata": {},
   "outputs": [],
   "source": [
    "import csv\n",
    "import numpy as np\n",
    "\n",
    "def task1(filename, target_row_name, cast_fn):\n",
    "    with open(filename, newline=\"\") as csvfile:\n",
    "        reader = csv.reader(csvfile, delimiter=\",\", quotechar=\"|\")\n",
    "\n",
    "        values = []  \n",
    "\n",
    "        firstrow = True\n",
    "        row_number = -1\n",
    "        for row in reader:\n",
    "\n",
    "            if firstrow:\n",
    "                firstrow = False\n",
    "                for i, row_name in enumerate(row):\n",
    "                    if target_row_name == row_name:\n",
    "                        row_number = i \n",
    "                        break\n",
    "            else:\n",
    "                if row_number != -1:\n",
    "                    values.append(cast_fn(row[row_number]))  \n",
    "\n",
    "        return np.array(values)  "
   ]
  },
  {
   "cell_type": "code",
   "execution_count": 25,
   "id": "d3cfc68c",
   "metadata": {},
   "outputs": [
    {
     "data": {
      "text/plain": [
       "array([369, 369, 369, 369, 369, 369, 369, 369, 369, 369, 369, 369, 369,\n",
       "       369, 369, 369, 369, 369, 368, 368, 368, 368, 368, 368, 368, 368,\n",
       "       368, 368, 368, 368, 368, 368, 368, 367, 367, 367, 367, 367, 367,\n",
       "       367, 367, 367, 367, 367, 367, 367, 366, 366, 366, 366, 366, 366,\n",
       "       366, 365, 365, 365, 363, 363, 363, 363, 363, 363, 363, 363, 363,\n",
       "       363, 363, 363, 362, 362, 362, 362, 361, 361, 361, 361, 361, 361,\n",
       "       361, 361, 361, 361, 361, 361, 360, 360, 360, 360, 360, 360, 360,\n",
       "       360, 360, 360, 359, 359, 359, 359, 359, 359, 359, 359, 359, 359,\n",
       "       359, 359, 359, 359, 359, 359, 359, 358, 357, 357, 357, 357, 357,\n",
       "       357, 357, 357, 357, 357, 357, 357, 357, 357, 357, 356, 356, 355,\n",
       "       354, 354, 354, 354, 354, 353, 351, 351, 351, 350, 350, 349, 349,\n",
       "       349, 349, 349, 349, 349, 348, 348, 348, 348, 348, 348, 348, 348,\n",
       "       348, 348, 348, 348, 348, 348, 348, 347, 347, 347, 347, 347, 347,\n",
       "       347, 347, 347, 347, 347, 347, 347, 347, 347, 347, 347, 347, 347,\n",
       "       347, 347, 347, 347, 347, 347, 347, 347, 347, 347, 347, 347, 347,\n",
       "       347, 347, 347, 347, 347, 347, 347, 347, 347, 347, 347, 347, 347,\n",
       "       347, 347, 347, 346, 345, 342, 342, 340, 340, 340, 340, 339, 339,\n",
       "       338, 338, 336, 335, 332, 332, 332, 332, 332, 332, 332, 332, 332,\n",
       "       332, 332, 332, 332, 332, 332, 332, 332, 332, 332, 331, 331, 331,\n",
       "       331, 331, 331, 331, 331, 331, 331, 331, 331, 331, 331, 329, 329,\n",
       "       329, 329, 329, 329, 329, 329, 329, 329, 329, 329, 329, 329, 329,\n",
       "       329, 329, 329, 329, 329, 329, 329, 327, 327, 324, 324, 324, 324,\n",
       "       324, 324, 324, 324, 324, 324, 324, 324, 324, 324, 324, 324, 324,\n",
       "       323, 323, 323, 323, 323, 323, 323, 323, 323, 323, 323, 323, 323,\n",
       "       323, 323, 323, 323, 323, 323, 323, 323, 322, 322, 322, 322, 322,\n",
       "       322, 322, 322, 322, 322, 322, 322, 322, 321, 321, 321, 320, 320,\n",
       "       320, 320, 320, 320, 320, 320, 320, 320, 320, 319, 318, 318, 317,\n",
       "       317, 316, 316, 316, 315, 315, 315, 315, 315, 315, 315, 315, 316,\n",
       "       316, 315, 315, 315, 315, 315, 315, 315, 315, 315, 315, 315, 315,\n",
       "       315, 315, 315, 315, 315, 315, 315, 315, 315, 315, 315, 315, 315,\n",
       "       315, 315, 315, 315, 315, 315, 315, 315, 315, 315, 315, 315, 315,\n",
       "       315, 315, 315, 315, 315, 315, 315, 315, 315, 315, 315, 315, 315,\n",
       "       315, 315, 315, 315, 315, 315, 315, 315, 315, 315, 315, 315, 315,\n",
       "       315, 315, 315, 315, 315, 315, 315, 315, 315, 315, 315, 315, 315,\n",
       "       315, 315, 315, 315, 315, 315, 315, 315, 315, 315, 315, 315, 315,\n",
       "       315, 315, 315, 315, 314, 314, 314, 314, 314, 314, 314, 314, 314,\n",
       "       314, 314, 314, 314, 314, 314, 314, 314, 314, 314, 314, 314, 314,\n",
       "       313, 313, 313, 313, 313, 313, 313, 313, 313, 313, 310, 310, 309,\n",
       "       309, 309, 309, 308, 308, 308, 308, 308, 308, 308, 308, 308, 308,\n",
       "       308, 308, 308, 308, 308, 308, 308, 308, 308, 308, 308, 308, 308,\n",
       "       308, 308, 308, 308, 308, 308, 308, 308, 308, 308, 308, 308, 308,\n",
       "       307, 307, 307, 307, 307, 307, 307, 307, 306, 306, 306, 306, 306,\n",
       "       306, 306, 306, 306, 306, 305, 305, 305, 305, 305, 305, 305, 305,\n",
       "       305, 305, 305, 305, 305, 304, 304, 304, 304, 304, 304, 303, 303,\n",
       "       303, 302, 302, 302, 301, 300, 300, 300, 300, 299, 299, 299, 299,\n",
       "       299, 299, 299, 298, 298, 298, 298, 298, 298, 296, 296, 295, 295,\n",
       "       295, 295, 294, 294, 294, 294, 294, 293, 293, 293, 293, 293, 293,\n",
       "       292, 292, 290, 289, 287, 287, 287, 287, 287, 287, 286, 286, 286,\n",
       "       286, 286, 285, 285, 285, 285, 285, 285, 285, 284, 283, 283, 283,\n",
       "       283, 283, 283, 283, 283, 283, 283, 283, 283, 283, 283, 282, 281,\n",
       "       281, 281, 281, 281, 281, 281, 281, 281, 281, 281, 281, 281, 281,\n",
       "       281, 281, 281, 280, 280, 280, 280, 280, 278, 278, 278, 278, 278,\n",
       "       278, 278, 278, 278, 278, 278, 278, 278, 278, 278, 278, 278, 278,\n",
       "       278, 278, 278, 277, 277, 277, 277, 277, 277, 276, 275, 274, 273,\n",
       "       272, 271, 271, 271, 270, 270, 270, 269, 269, 269, 268, 268, 268,\n",
       "       268, 268, 268, 268, 268, 267, 266, 266, 266, 266, 266, 266, 265,\n",
       "       264, 264, 264, 262, 262, 261, 260, 259, 255, 254, 253, 253, 252,\n",
       "       251, 251, 251, 250, 250, 246, 244, 243, 242, 239, 239, 239, 237,\n",
       "       236, 236, 236, 235, 234, 234, 234, 234, 234, 234, 234, 234, 234,\n",
       "       234, 234, 234, 234, 234, 234, 234, 233, 233, 233, 233, 233, 233,\n",
       "       232, 232, 223, 223, 223, 223, 223, 223, 223, 223, 223, 223, 222,\n",
       "       222, 222, 222, 222, 222, 221, 221, 221, 221, 221, 220, 220, 220,\n",
       "       220, 220, 219, 217, 217, 217, 217, 217, 217, 217, 217, 217, 217,\n",
       "       217, 217, 217, 217, 217, 217, 217, 217, 217, 216, 216, 216, 216,\n",
       "       216, 216, 216, 215, 213, 213, 213, 213, 212, 212, 212, 212, 212,\n",
       "       212, 211, 210, 210, 210, 210, 208, 208, 207, 207, 207, 206, 206,\n",
       "       206, 205, 204, 204, 204, 204, 203, 202, 201, 200, 200, 200, 200,\n",
       "       199, 199, 199, 199, 199, 199, 199, 196, 194, 194, 194, 192, 190,\n",
       "       189, 187, 185, 184, 181, 179, 177, 176, 172, 171, 169, 167, 165,\n",
       "       163, 163, 160, 158, 157, 154, 152, 151, 150, 150, 150, 150, 147,\n",
       "       143, 143, 143, 135, 131, 127, 123, 121, 117, 115, 108, 101,  99,\n",
       "        97,  96,  95,  93,  86,  84,  81,  77,  74,  58,  57,  49,  49,\n",
       "        48,  46,  44,  39,  33,  30,  30,  29,  29,  27,  27,  10])"
      ]
     },
     "execution_count": 25,
     "metadata": {},
     "output_type": "execute_result"
    }
   ],
   "source": [
    "task1(\"russia_losses_equipment.csv\", \"aircraft\", int)"
   ]
  },
  {
   "cell_type": "code",
   "execution_count": 27,
   "id": "44fd5d21",
   "metadata": {},
   "outputs": [
    {
     "name": "stdout",
     "output_type": "stream",
     "text": [
      "Aircrafts looses per day:\n",
      "[ 0  0  0  0  0  0  0  0  0  0  0  0  0  0  0  0  0  1  0  0  0  0  0  0\n",
      "  0  0  0  0  0  0  0  0  1  0  0  0  0  0  0  0  0  0  0  0  0  1  0  0\n",
      "  0  0  0  0  1  0  0  2  0  0  0  0  0  0  0  0  0  0  0  1  0  0  0  1\n",
      "  0  0  0  0  0  0  0  0  0  0  0  1  0  0  0  0  0  0  0  0  0  1  0  0\n",
      "  0  0  0  0  0  0  0  0  0  0  0  0  0  0  1  1  0  0  0  0  0  0  0  0\n",
      "  0  0  0  0  0  0  1  0  1  1  0  0  0  0  1  2  0  0  1  0  1  0  0  0\n",
      "  0  0  0  1  0  0  0  0  0  0  0  0  0  0  0  0  0  0  1  0  0  0  0  0\n",
      "  0  0  0  0  0  0  0  0  0  0  0  0  0  0  0  0  0  0  0  0  0  0  0  0\n",
      "  0  0  0  0  0  0  0  0  0  0  0  0  0  0  0  0  0  0  1  1  3  0  2  0\n",
      "  0  0  1  0  1  0  2  1  3  0  0  0  0  0  0  0  0  0  0  0  0  0  0  0\n",
      "  0  0  0  1  0  0  0  0  0  0  0  0  0  0  0  0  0  2  0  0  0  0  0  0\n",
      "  0  0  0  0  0  0  0  0  0  0  0  0  0  0  0  2  0  3  0  0  0  0  0  0\n",
      "  0  0  0  0  0  0  0  0  0  0  1  0  0  0  0  0  0  0  0  0  0  0  0  0\n",
      "  0  0  0  0  0  0  0  1  0  0  0  0  0  0  0  0  0  0  0  0  1  0  0  1\n",
      "  0  0  0  0  0  0  0  0  0  0  1  1  0  1  0  1  0  0  1  0  0  0  0  0\n",
      "  0  0 -1  0  1  0  0  0  0  0  0  0  0  0  0  0  0  0  0  0  0  0  0  0\n",
      "  0  0  0  0  0  0  0  0  0  0  0  0  0  0  0  0  0  0  0  0  0  0  0  0\n",
      "  0  0  0  0  0  0  0  0  0  0  0  0  0  0  0  0  0  0  0  0  0  0  0  0\n",
      "  0  0  0  0  0  0  0  0  0  0  0  0  0  0  0  0  0  0  0  0  0  0  0  0\n",
      "  0  0  1  0  0  0  0  0  0  0  0  0  0  0  0  0  0  0  0  0  0  0  0  0\n",
      "  1  0  0  0  0  0  0  0  0  0  3  0  1  0  0  0  1  0  0  0  0  0  0  0\n",
      "  0  0  0  0  0  0  0  0  0  0  0  0  0  0  0  0  0  0  0  0  0  0  0  0\n",
      "  0  0  0  0  1  0  0  0  0  0  0  0  1  0  0  0  0  0  0  0  0  0  1  0\n",
      "  0  0  0  0  0  0  0  0  0  0  0  1  0  0  0  0  0  1  0  0  1  0  0  1\n",
      "  1  0  0  0  1  0  0  0  0  0  0  1  0  0  0  0  0  2  0  1  0  0  0  1\n",
      "  0  0  0  0  1  0  0  0  0  0  1  0  2  1  2  0  0  0  0  0  1  0  0  0\n",
      "  0  1  0  0  0  0  0  0  1  1  0  0  0  0  0  0  0  0  0  0  0  0  0  1\n",
      "  1  0  0  0  0  0  0  0  0  0  0  0  0  0  0  0  0  1  0  0  0  0  2  0\n",
      "  0  0  0  0  0  0  0  0  0  0  0  0  0  0  0  0  0  0  0  1  0  0  0  0\n",
      "  0  1  1  1  1  1  1  0  0  1  0  0  1  0  0  1  0  0  0  0  0  0  0  1\n",
      "  1  0  0  0  0  0  1  1  0  0  2  0  1  1  1  4  1  1  0  1  1  0  0  1\n",
      "  0  4  2  1  1  3  0  0  2  1  0  0  1  1  0  0  0  0  0  0  0  0  0  0\n",
      "  0  0  0  0  0  1  0  0  0  0  0  1  0  9  0  0  0  0  0  0  0  0  0  1\n",
      "  0  0  0  0  0  1  0  0  0  0  1  0  0  0  0  1  2  0  0  0  0  0  0  0\n",
      "  0  0  0  0  0  0  0  0  0  0  0  1  0  0  0  0  0  0  1  2  0  0  0  1\n",
      "  0  0  0  0  0  1  1  0  0  0  2  0  1  0  0  1  0  0  1  1  0  0  0  1\n",
      "  1  1  1  0  0  0  1  0  0  0  0  0  0  3  2  0  0  2  2  1  2  2  1  3\n",
      "  2  2  1  4  1  2  2  2  2  0  3  2  1  3  2  1  1  0  0  0  3  4  0  0\n",
      "  8  4  4  4  2  4  2  7  7  2  2  1  1  2  7  2  3  4  3 16  1  8  0  1\n",
      "  2  2  5  6  3  0  1  0  2  0 17 10]\n"
     ]
    }
   ],
   "source": [
    "aircraft_losses = task1(\"russia_losses_equipment.csv\", \"aircraft\", int)\n",
    "per_day = aircraft_losses\n",
    " \n",
    "for i, value in enumerate(per_day[1:]):\n",
    "    per_day[i ] = per_day[i ] - aircraft_losses[i + 1]\n",
    "\n",
    "print(\"Aircrafts looses per day:\")    \n",
    "print(per_day)"
   ]
  },
  {
   "cell_type": "code",
   "execution_count": 7,
   "id": "4deeef54",
   "metadata": {},
   "outputs": [
    {
     "name": "stdout",
     "output_type": "stream",
     "text": [
      "3 max aircraft losses per day\n",
      "[10 16 17]\n"
     ]
    }
   ],
   "source": [
    "print(\"3 max aircraft losses per day\")\n",
    "sorted_indecies = per_day.argsort()\n",
    "max3 = per_day[sorted_indecies][-3:]\n",
    "print(max3)"
   ]
  },
  {
   "cell_type": "code",
   "execution_count": 18,
   "id": "08293e3c",
   "metadata": {},
   "outputs": [
    {
     "name": "stdout",
     "output_type": "stream",
     "text": [
      "Total aircraft losses per summer 2022\n",
      "26\n"
     ]
    }
   ],
   "source": [
    "from datetime import datetime\n",
    "\n",
    "summer_start = datetime(2022, 6, 1)\n",
    "summer_end = datetime(2022, 8, 31)\n",
    "\n",
    "def is_summer_of_2022(date):\n",
    "    return summer_start <= date <= summer_end\n",
    "\n",
    "date_convert_fn = lambda date_str: datetime.strptime(date_str, '%Y-%m-%d')\n",
    "dates = task1(\"russia_losses_equipment.csv\", \"date\", date_convert_fn)\n",
    "\n",
    "total_aircraft_per_summer_2022 = 0\n",
    "for i, date in enumerate(dates):\n",
    "    if is_summer_of_2022(date):\n",
    "        total_aircraft_per_summer_2022 += per_day[i]\n",
    "        \n",
    "print(\"Total aircraft losses per summer 2022\")\n",
    "print(total_aircraft_per_summer_2022)"
   ]
  },
  {
   "cell_type": "code",
   "execution_count": 19,
   "id": "3003d39a",
   "metadata": {},
   "outputs": [
    {
     "name": "stdout",
     "output_type": "stream",
     "text": [
      "Average aircrafts losses for last 300 days\n",
      "Avg = 0.15333333333333332\n"
     ]
    }
   ],
   "source": [
    "destroyed_counter = 0\n",
    "for i, destroyed in enumerate(per_day):\n",
    "    destroyed_counter += destroyed\n",
    "    if i == 300:\n",
    "        print(\"Average aircrafts losses for last 300 days\")\n",
    "        print(f\"Avg = {destroyed_counter / 300}\")\n",
    "        break"
   ]
  },
  {
   "cell_type": "code",
   "execution_count": 1,
   "id": "84c7a8b6",
   "metadata": {
    "scrolled": true
   },
   "outputs": [
    {
     "name": "stderr",
     "output_type": "stream",
     "text": [
      "/usr/local/lib/python3.11/dist-packages/matplotlib/projections/__init__.py:63: UserWarning: Unable to import Axes3D. This may be due to multiple versions of Matplotlib being installed (e.g. as a system package and as a pip package). As a result, the 3D projection is not available.\n",
      "  warnings.warn(\"Unable to import Axes3D. This may be due to multiple versions of \"\n"
     ]
    },
    {
     "ename": "NameError",
     "evalue": "name 'per_day' is not defined",
     "output_type": "error",
     "traceback": [
      "\u001b[0;31m---------------------------------------------------------------------------\u001b[0m",
      "\u001b[0;31mNameError\u001b[0m                                 Traceback (most recent call last)",
      "Cell \u001b[0;32mIn [1], line 6\u001b[0m\n\u001b[1;32m      3\u001b[0m destroyed_list \u001b[38;5;241m=\u001b[39m []\n\u001b[1;32m      4\u001b[0m destroyed_dates \u001b[38;5;241m=\u001b[39m []\n\u001b[0;32m----> 6\u001b[0m \u001b[38;5;28;01mfor\u001b[39;00m i, destroyed \u001b[38;5;129;01min\u001b[39;00m \u001b[38;5;28menumerate\u001b[39m(\u001b[38;5;28mreversed\u001b[39m(\u001b[43mper_day\u001b[49m)):\n\u001b[1;32m      7\u001b[0m     \u001b[38;5;28;01mif\u001b[39;00m i \u001b[38;5;241m==\u001b[39m \u001b[38;5;241m365\u001b[39m:\n\u001b[1;32m      8\u001b[0m         \u001b[38;5;28;01mbreak\u001b[39;00m\n",
      "\u001b[0;31mNameError\u001b[0m: name 'per_day' is not defined"
     ]
    }
   ],
   "source": [
    "\n",
    "import matplotlib.pyplot as plt\n",
    "\n",
    "destroyed_list = []\n",
    "destroyed_dates = []\n",
    "\n",
    "for i, destroyed in enumerate(reversed(per_day)):\n",
    "    if i == 365:\n",
    "        break\n",
    "    destroyed_list.append(destroyed)\n",
    "    destroyed_dates.append(dates[(dates.size - 1) - i])\n",
    "\n",
    "xp = np.array(destroyed_dates)  # x-axis: dates\n",
    "yp = np.array(destroyed_list)  # y-axis: destroyed counts\n",
    "\n",
    "fig = plt.figure(figsize=(8, 16), dpi=55)\n",
    "ax = fig.add_subplot(111)  \n",
    "ax.plot(xp, yp, linestyle=\"--\", marker=\"o\", label=\"Destroyed Aircraft\")\n",
    "ax.set_xlabel(\"Date\")\n",
    "ax.set_ylabel(\"Destroyed Aircraft Count\")\n",
    "ax.set_title(\"Destroyed Aircraft per Day\")\n",
    "ax.grid(True, color=\"gray\", linestyle=\"-.\")\n",
    "ax.legend()\n",
    "plt.show()"
   ]
  },
  {
   "cell_type": "code",
   "execution_count": null,
   "id": "336e065d",
   "metadata": {},
   "outputs": [],
   "source": []
  },
  {
   "cell_type": "code",
   "execution_count": null,
   "id": "627af5b2",
   "metadata": {},
   "outputs": [],
   "source": []
  }
 ],
 "metadata": {
  "kernelspec": {
   "display_name": "Python 3 (ipykernel)",
   "language": "python",
   "name": "python3"
  },
  "language_info": {
   "codemirror_mode": {
    "name": "ipython",
    "version": 3
   },
   "file_extension": ".py",
   "mimetype": "text/x-python",
   "name": "python",
   "nbconvert_exporter": "python",
   "pygments_lexer": "ipython3",
   "version": "3.11.2"
  }
 },
 "nbformat": 4,
 "nbformat_minor": 5
}
